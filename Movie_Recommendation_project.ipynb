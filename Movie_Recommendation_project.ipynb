{
  "cells": [
    {
      "cell_type": "markdown",
      "metadata": {
        "id": "kasE0gFlGGsM"
      },
      "source": [
        "# **Title:  Movie Recommendation System**"
      ]
    },
    {
      "cell_type": "code",
      "execution_count": 1,
      "metadata": {
        "id": "CzrV5gkHK5DL"
      },
      "outputs": [],
      "source": [
        "import pandas as pd\n",
        "import numpy as np"
      ]
    },
    {
      "cell_type": "code",
      "execution_count": 3,
      "metadata": {
        "id": "tcdOixOgMGUk"
      },
      "outputs": [
        {
          "data": {
            "text/html": [
              "<div>\n",
              "<style scoped>\n",
              "    .dataframe tbody tr th:only-of-type {\n",
              "        vertical-align: middle;\n",
              "    }\n",
              "\n",
              "    .dataframe tbody tr th {\n",
              "        vertical-align: top;\n",
              "    }\n",
              "\n",
              "    .dataframe thead th {\n",
              "        text-align: right;\n",
              "    }\n",
              "</style>\n",
              "<table border=\"1\" class=\"dataframe\">\n",
              "  <thead>\n",
              "    <tr style=\"text-align: right;\">\n",
              "      <th></th>\n",
              "      <th>id</th>\n",
              "      <th>title</th>\n",
              "      <th>genre</th>\n",
              "      <th>original_language</th>\n",
              "      <th>overview</th>\n",
              "      <th>popularity</th>\n",
              "      <th>release_date</th>\n",
              "      <th>vote_average</th>\n",
              "      <th>vote_count</th>\n",
              "    </tr>\n",
              "  </thead>\n",
              "  <tbody>\n",
              "    <tr>\n",
              "      <th>0</th>\n",
              "      <td>278</td>\n",
              "      <td>The Shawshank Redemption</td>\n",
              "      <td>Drama,Crime</td>\n",
              "      <td>en</td>\n",
              "      <td>Framed in the 1940s for the double murder of h...</td>\n",
              "      <td>94.075</td>\n",
              "      <td>1994-09-23</td>\n",
              "      <td>8.7</td>\n",
              "      <td>21862</td>\n",
              "    </tr>\n",
              "    <tr>\n",
              "      <th>1</th>\n",
              "      <td>19404</td>\n",
              "      <td>Dilwale Dulhania Le Jayenge</td>\n",
              "      <td>Comedy,Drama,Romance</td>\n",
              "      <td>hi</td>\n",
              "      <td>Raj is a rich, carefree, happy-go-lucky second...</td>\n",
              "      <td>25.408</td>\n",
              "      <td>1995-10-19</td>\n",
              "      <td>8.7</td>\n",
              "      <td>3731</td>\n",
              "    </tr>\n",
              "    <tr>\n",
              "      <th>2</th>\n",
              "      <td>238</td>\n",
              "      <td>The Godfather</td>\n",
              "      <td>Drama,Crime</td>\n",
              "      <td>en</td>\n",
              "      <td>Spanning the years 1945 to 1955, a chronicle o...</td>\n",
              "      <td>90.585</td>\n",
              "      <td>1972-03-14</td>\n",
              "      <td>8.7</td>\n",
              "      <td>16280</td>\n",
              "    </tr>\n",
              "    <tr>\n",
              "      <th>3</th>\n",
              "      <td>424</td>\n",
              "      <td>Schindler's List</td>\n",
              "      <td>Drama,History,War</td>\n",
              "      <td>en</td>\n",
              "      <td>The true story of how businessman Oskar Schind...</td>\n",
              "      <td>44.761</td>\n",
              "      <td>1993-12-15</td>\n",
              "      <td>8.6</td>\n",
              "      <td>12959</td>\n",
              "    </tr>\n",
              "    <tr>\n",
              "      <th>4</th>\n",
              "      <td>240</td>\n",
              "      <td>The Godfather: Part II</td>\n",
              "      <td>Drama,Crime</td>\n",
              "      <td>en</td>\n",
              "      <td>In the continuing saga of the Corleone crime f...</td>\n",
              "      <td>57.749</td>\n",
              "      <td>1974-12-20</td>\n",
              "      <td>8.6</td>\n",
              "      <td>9811</td>\n",
              "    </tr>\n",
              "    <tr>\n",
              "      <th>...</th>\n",
              "      <td>...</td>\n",
              "      <td>...</td>\n",
              "      <td>...</td>\n",
              "      <td>...</td>\n",
              "      <td>...</td>\n",
              "      <td>...</td>\n",
              "      <td>...</td>\n",
              "      <td>...</td>\n",
              "      <td>...</td>\n",
              "    </tr>\n",
              "    <tr>\n",
              "      <th>9995</th>\n",
              "      <td>10196</td>\n",
              "      <td>The Last Airbender</td>\n",
              "      <td>Action,Adventure,Fantasy</td>\n",
              "      <td>en</td>\n",
              "      <td>The story follows the adventures of Aang, a yo...</td>\n",
              "      <td>98.322</td>\n",
              "      <td>2010-06-30</td>\n",
              "      <td>4.7</td>\n",
              "      <td>3347</td>\n",
              "    </tr>\n",
              "    <tr>\n",
              "      <th>9996</th>\n",
              "      <td>331446</td>\n",
              "      <td>Sharknado 3: Oh Hell No!</td>\n",
              "      <td>Action,TV Movie,Science Fiction,Comedy,Adventure</td>\n",
              "      <td>en</td>\n",
              "      <td>The sharks take bite out of the East Coast whe...</td>\n",
              "      <td>12.490</td>\n",
              "      <td>2015-07-22</td>\n",
              "      <td>4.7</td>\n",
              "      <td>417</td>\n",
              "    </tr>\n",
              "    <tr>\n",
              "      <th>9997</th>\n",
              "      <td>13995</td>\n",
              "      <td>Captain America</td>\n",
              "      <td>Action,Science Fiction,War</td>\n",
              "      <td>en</td>\n",
              "      <td>During World War II, a brave, patriotic Americ...</td>\n",
              "      <td>18.333</td>\n",
              "      <td>1990-12-14</td>\n",
              "      <td>4.6</td>\n",
              "      <td>332</td>\n",
              "    </tr>\n",
              "    <tr>\n",
              "      <th>9998</th>\n",
              "      <td>2312</td>\n",
              "      <td>In the Name of the King: A Dungeon Siege Tale</td>\n",
              "      <td>Adventure,Fantasy,Action,Drama</td>\n",
              "      <td>en</td>\n",
              "      <td>A man named Farmer sets out to rescue his kidn...</td>\n",
              "      <td>15.159</td>\n",
              "      <td>2007-11-29</td>\n",
              "      <td>4.7</td>\n",
              "      <td>668</td>\n",
              "    </tr>\n",
              "    <tr>\n",
              "      <th>9999</th>\n",
              "      <td>455957</td>\n",
              "      <td>Domino</td>\n",
              "      <td>Thriller,Action,Crime</td>\n",
              "      <td>en</td>\n",
              "      <td>Seeking justice for his partner’s murder by an...</td>\n",
              "      <td>16.482</td>\n",
              "      <td>2019-05-31</td>\n",
              "      <td>4.6</td>\n",
              "      <td>221</td>\n",
              "    </tr>\n",
              "  </tbody>\n",
              "</table>\n",
              "<p>10000 rows × 9 columns</p>\n",
              "</div>"
            ],
            "text/plain": [
              "          id                                          title  \\\n",
              "0        278                       The Shawshank Redemption   \n",
              "1      19404                    Dilwale Dulhania Le Jayenge   \n",
              "2        238                                  The Godfather   \n",
              "3        424                               Schindler's List   \n",
              "4        240                         The Godfather: Part II   \n",
              "...      ...                                            ...   \n",
              "9995   10196                             The Last Airbender   \n",
              "9996  331446                       Sharknado 3: Oh Hell No!   \n",
              "9997   13995                                Captain America   \n",
              "9998    2312  In the Name of the King: A Dungeon Siege Tale   \n",
              "9999  455957                                         Domino   \n",
              "\n",
              "                                                 genre original_language  \\\n",
              "0                                          Drama,Crime                en   \n",
              "1                                 Comedy,Drama,Romance                hi   \n",
              "2                                          Drama,Crime                en   \n",
              "3                                    Drama,History,War                en   \n",
              "4                                          Drama,Crime                en   \n",
              "...                                                ...               ...   \n",
              "9995                          Action,Adventure,Fantasy                en   \n",
              "9996  Action,TV Movie,Science Fiction,Comedy,Adventure                en   \n",
              "9997                        Action,Science Fiction,War                en   \n",
              "9998                    Adventure,Fantasy,Action,Drama                en   \n",
              "9999                             Thriller,Action,Crime                en   \n",
              "\n",
              "                                               overview  popularity  \\\n",
              "0     Framed in the 1940s for the double murder of h...      94.075   \n",
              "1     Raj is a rich, carefree, happy-go-lucky second...      25.408   \n",
              "2     Spanning the years 1945 to 1955, a chronicle o...      90.585   \n",
              "3     The true story of how businessman Oskar Schind...      44.761   \n",
              "4     In the continuing saga of the Corleone crime f...      57.749   \n",
              "...                                                 ...         ...   \n",
              "9995  The story follows the adventures of Aang, a yo...      98.322   \n",
              "9996  The sharks take bite out of the East Coast whe...      12.490   \n",
              "9997  During World War II, a brave, patriotic Americ...      18.333   \n",
              "9998  A man named Farmer sets out to rescue his kidn...      15.159   \n",
              "9999  Seeking justice for his partner’s murder by an...      16.482   \n",
              "\n",
              "     release_date  vote_average  vote_count  \n",
              "0      1994-09-23           8.7       21862  \n",
              "1      1995-10-19           8.7        3731  \n",
              "2      1972-03-14           8.7       16280  \n",
              "3      1993-12-15           8.6       12959  \n",
              "4      1974-12-20           8.6        9811  \n",
              "...           ...           ...         ...  \n",
              "9995   2010-06-30           4.7        3347  \n",
              "9996   2015-07-22           4.7         417  \n",
              "9997   1990-12-14           4.6         332  \n",
              "9998   2007-11-29           4.7         668  \n",
              "9999   2019-05-31           4.6         221  \n",
              "\n",
              "[10000 rows x 9 columns]"
            ]
          },
          "execution_count": 3,
          "metadata": {},
          "output_type": "execute_result"
        }
      ],
      "source": [
        "df = pd.read_csv(\"C:/Users/PC/Downloads/top10K-TMDB-movies.csv\")\n",
        "df"
      ]
    },
    {
      "cell_type": "markdown",
      "metadata": {
        "id": "qwaQXWXbMZpK"
      },
      "source": [
        "# EDA- Exploration Data Analysis"
      ]
    },
    {
      "cell_type": "markdown",
      "metadata": {
        "id": "REgyYoHhMnM2"
      },
      "source": [
        "**The Dataset contains the following things:**\n",
        "\n",
        "- ID: Movie ID number on the website.\n",
        "- title: Movie name\n",
        "- genre: Movie genre (crime, adventure, etc.)\n",
        "- original_language: Original language in which the movie is released\n",
        "- overview: Summary of the movie\n",
        "- popularity: Movie Popularity\n",
        "- release_date: Movie release date\n",
        "- vote_average: Movie vote average\n",
        "- vote_count: Movie vote count"
      ]
    },
    {
      "cell_type": "code",
      "execution_count": 4,
      "metadata": {
        "colab": {
          "base_uri": "https://localhost:8080/",
          "height": 573
        },
        "id": "qOCLfb2sLDHx",
        "outputId": "03adb13c-fa79-428f-eb04-37c9518c79ed"
      },
      "outputs": [
        {
          "data": {
            "text/html": [
              "<div>\n",
              "<style scoped>\n",
              "    .dataframe tbody tr th:only-of-type {\n",
              "        vertical-align: middle;\n",
              "    }\n",
              "\n",
              "    .dataframe tbody tr th {\n",
              "        vertical-align: top;\n",
              "    }\n",
              "\n",
              "    .dataframe thead th {\n",
              "        text-align: right;\n",
              "    }\n",
              "</style>\n",
              "<table border=\"1\" class=\"dataframe\">\n",
              "  <thead>\n",
              "    <tr style=\"text-align: right;\">\n",
              "      <th></th>\n",
              "      <th>id</th>\n",
              "      <th>title</th>\n",
              "      <th>genre</th>\n",
              "      <th>original_language</th>\n",
              "      <th>overview</th>\n",
              "      <th>popularity</th>\n",
              "      <th>release_date</th>\n",
              "      <th>vote_average</th>\n",
              "      <th>vote_count</th>\n",
              "    </tr>\n",
              "  </thead>\n",
              "  <tbody>\n",
              "    <tr>\n",
              "      <th>0</th>\n",
              "      <td>278</td>\n",
              "      <td>The Shawshank Redemption</td>\n",
              "      <td>Drama,Crime</td>\n",
              "      <td>en</td>\n",
              "      <td>Framed in the 1940s for the double murder of h...</td>\n",
              "      <td>94.075</td>\n",
              "      <td>1994-09-23</td>\n",
              "      <td>8.7</td>\n",
              "      <td>21862</td>\n",
              "    </tr>\n",
              "    <tr>\n",
              "      <th>1</th>\n",
              "      <td>19404</td>\n",
              "      <td>Dilwale Dulhania Le Jayenge</td>\n",
              "      <td>Comedy,Drama,Romance</td>\n",
              "      <td>hi</td>\n",
              "      <td>Raj is a rich, carefree, happy-go-lucky second...</td>\n",
              "      <td>25.408</td>\n",
              "      <td>1995-10-19</td>\n",
              "      <td>8.7</td>\n",
              "      <td>3731</td>\n",
              "    </tr>\n",
              "    <tr>\n",
              "      <th>2</th>\n",
              "      <td>238</td>\n",
              "      <td>The Godfather</td>\n",
              "      <td>Drama,Crime</td>\n",
              "      <td>en</td>\n",
              "      <td>Spanning the years 1945 to 1955, a chronicle o...</td>\n",
              "      <td>90.585</td>\n",
              "      <td>1972-03-14</td>\n",
              "      <td>8.7</td>\n",
              "      <td>16280</td>\n",
              "    </tr>\n",
              "    <tr>\n",
              "      <th>3</th>\n",
              "      <td>424</td>\n",
              "      <td>Schindler's List</td>\n",
              "      <td>Drama,History,War</td>\n",
              "      <td>en</td>\n",
              "      <td>The true story of how businessman Oskar Schind...</td>\n",
              "      <td>44.761</td>\n",
              "      <td>1993-12-15</td>\n",
              "      <td>8.6</td>\n",
              "      <td>12959</td>\n",
              "    </tr>\n",
              "    <tr>\n",
              "      <th>4</th>\n",
              "      <td>240</td>\n",
              "      <td>The Godfather: Part II</td>\n",
              "      <td>Drama,Crime</td>\n",
              "      <td>en</td>\n",
              "      <td>In the continuing saga of the Corleone crime f...</td>\n",
              "      <td>57.749</td>\n",
              "      <td>1974-12-20</td>\n",
              "      <td>8.6</td>\n",
              "      <td>9811</td>\n",
              "    </tr>\n",
              "  </tbody>\n",
              "</table>\n",
              "</div>"
            ],
            "text/plain": [
              "      id                        title                 genre original_language  \\\n",
              "0    278     The Shawshank Redemption           Drama,Crime                en   \n",
              "1  19404  Dilwale Dulhania Le Jayenge  Comedy,Drama,Romance                hi   \n",
              "2    238                The Godfather           Drama,Crime                en   \n",
              "3    424             Schindler's List     Drama,History,War                en   \n",
              "4    240       The Godfather: Part II           Drama,Crime                en   \n",
              "\n",
              "                                            overview  popularity release_date  \\\n",
              "0  Framed in the 1940s for the double murder of h...      94.075   1994-09-23   \n",
              "1  Raj is a rich, carefree, happy-go-lucky second...      25.408   1995-10-19   \n",
              "2  Spanning the years 1945 to 1955, a chronicle o...      90.585   1972-03-14   \n",
              "3  The true story of how businessman Oskar Schind...      44.761   1993-12-15   \n",
              "4  In the continuing saga of the Corleone crime f...      57.749   1974-12-20   \n",
              "\n",
              "   vote_average  vote_count  \n",
              "0           8.7       21862  \n",
              "1           8.7        3731  \n",
              "2           8.7       16280  \n",
              "3           8.6       12959  \n",
              "4           8.6        9811  "
            ]
          },
          "execution_count": 4,
          "metadata": {},
          "output_type": "execute_result"
        }
      ],
      "source": [
        "df.head()"
      ]
    },
    {
      "cell_type": "markdown",
      "metadata": {
        "id": "ftvKv8d2NJCl"
      },
      "source": [
        "## Rows and Columns"
      ]
    },
    {
      "cell_type": "code",
      "execution_count": 5,
      "metadata": {
        "colab": {
          "base_uri": "https://localhost:8080/"
        },
        "id": "dETP-NBpNEQh",
        "outputId": "aeba5320-c60c-49de-a432-a3947f857b1a"
      },
      "outputs": [
        {
          "data": {
            "text/plain": [
              "(10000, 9)"
            ]
          },
          "execution_count": 5,
          "metadata": {},
          "output_type": "execute_result"
        }
      ],
      "source": [
        "df.shape"
      ]
    },
    {
      "cell_type": "code",
      "execution_count": 6,
      "metadata": {
        "colab": {
          "base_uri": "https://localhost:8080/",
          "height": 300
        },
        "id": "L9ud4uxqNNiV",
        "outputId": "a3ddfa49-8c4d-42c4-f7b3-5da61d7aa720"
      },
      "outputs": [
        {
          "data": {
            "text/html": [
              "<div>\n",
              "<style scoped>\n",
              "    .dataframe tbody tr th:only-of-type {\n",
              "        vertical-align: middle;\n",
              "    }\n",
              "\n",
              "    .dataframe tbody tr th {\n",
              "        vertical-align: top;\n",
              "    }\n",
              "\n",
              "    .dataframe thead th {\n",
              "        text-align: right;\n",
              "    }\n",
              "</style>\n",
              "<table border=\"1\" class=\"dataframe\">\n",
              "  <thead>\n",
              "    <tr style=\"text-align: right;\">\n",
              "      <th></th>\n",
              "      <th>id</th>\n",
              "      <th>popularity</th>\n",
              "      <th>vote_average</th>\n",
              "      <th>vote_count</th>\n",
              "    </tr>\n",
              "  </thead>\n",
              "  <tbody>\n",
              "    <tr>\n",
              "      <th>count</th>\n",
              "      <td>10000.000000</td>\n",
              "      <td>10000.000000</td>\n",
              "      <td>10000.000000</td>\n",
              "      <td>10000.000000</td>\n",
              "    </tr>\n",
              "    <tr>\n",
              "      <th>mean</th>\n",
              "      <td>161243.505000</td>\n",
              "      <td>34.697267</td>\n",
              "      <td>6.621150</td>\n",
              "      <td>1547.309400</td>\n",
              "    </tr>\n",
              "    <tr>\n",
              "      <th>std</th>\n",
              "      <td>211422.046043</td>\n",
              "      <td>211.684175</td>\n",
              "      <td>0.766231</td>\n",
              "      <td>2648.295789</td>\n",
              "    </tr>\n",
              "    <tr>\n",
              "      <th>min</th>\n",
              "      <td>5.000000</td>\n",
              "      <td>0.600000</td>\n",
              "      <td>4.600000</td>\n",
              "      <td>200.000000</td>\n",
              "    </tr>\n",
              "    <tr>\n",
              "      <th>25%</th>\n",
              "      <td>10127.750000</td>\n",
              "      <td>9.154750</td>\n",
              "      <td>6.100000</td>\n",
              "      <td>315.000000</td>\n",
              "    </tr>\n",
              "    <tr>\n",
              "      <th>50%</th>\n",
              "      <td>30002.500000</td>\n",
              "      <td>13.637500</td>\n",
              "      <td>6.600000</td>\n",
              "      <td>583.500000</td>\n",
              "    </tr>\n",
              "    <tr>\n",
              "      <th>75%</th>\n",
              "      <td>310133.500000</td>\n",
              "      <td>25.651250</td>\n",
              "      <td>7.200000</td>\n",
              "      <td>1460.000000</td>\n",
              "    </tr>\n",
              "    <tr>\n",
              "      <th>max</th>\n",
              "      <td>934761.000000</td>\n",
              "      <td>10436.917000</td>\n",
              "      <td>8.700000</td>\n",
              "      <td>31917.000000</td>\n",
              "    </tr>\n",
              "  </tbody>\n",
              "</table>\n",
              "</div>"
            ],
            "text/plain": [
              "                  id    popularity  vote_average    vote_count\n",
              "count   10000.000000  10000.000000  10000.000000  10000.000000\n",
              "mean   161243.505000     34.697267      6.621150   1547.309400\n",
              "std    211422.046043    211.684175      0.766231   2648.295789\n",
              "min         5.000000      0.600000      4.600000    200.000000\n",
              "25%     10127.750000      9.154750      6.100000    315.000000\n",
              "50%     30002.500000     13.637500      6.600000    583.500000\n",
              "75%    310133.500000     25.651250      7.200000   1460.000000\n",
              "max    934761.000000  10436.917000      8.700000  31917.000000"
            ]
          },
          "execution_count": 6,
          "metadata": {},
          "output_type": "execute_result"
        }
      ],
      "source": [
        "df.describe()"
      ]
    },
    {
      "cell_type": "markdown",
      "metadata": {
        "id": "HZ_eg6z7NVGm"
      },
      "source": [
        "## Checking information about the datset"
      ]
    },
    {
      "cell_type": "code",
      "execution_count": 7,
      "metadata": {
        "colab": {
          "base_uri": "https://localhost:8080/"
        },
        "id": "9dia3qyQNTw-",
        "outputId": "411fd237-c05b-4e12-809e-dfc6ac85fd73"
      },
      "outputs": [
        {
          "name": "stdout",
          "output_type": "stream",
          "text": [
            "<class 'pandas.core.frame.DataFrame'>\n",
            "RangeIndex: 10000 entries, 0 to 9999\n",
            "Data columns (total 9 columns):\n",
            " #   Column             Non-Null Count  Dtype  \n",
            "---  ------             --------------  -----  \n",
            " 0   id                 10000 non-null  int64  \n",
            " 1   title              10000 non-null  object \n",
            " 2   genre              9997 non-null   object \n",
            " 3   original_language  10000 non-null  object \n",
            " 4   overview           9987 non-null   object \n",
            " 5   popularity         10000 non-null  float64\n",
            " 6   release_date       10000 non-null  object \n",
            " 7   vote_average       10000 non-null  float64\n",
            " 8   vote_count         10000 non-null  int64  \n",
            "dtypes: float64(2), int64(2), object(5)\n",
            "memory usage: 703.3+ KB\n"
          ]
        }
      ],
      "source": [
        "df.info()"
      ]
    },
    {
      "cell_type": "markdown",
      "metadata": {
        "id": "K5pIcwuLNa1J"
      },
      "source": [
        "## Checking null values in the dataset"
      ]
    },
    {
      "cell_type": "code",
      "execution_count": 8,
      "metadata": {
        "colab": {
          "base_uri": "https://localhost:8080/"
        },
        "id": "6q_pwk_rNaHG",
        "outputId": "571d1ac9-5bd2-4dd6-ba06-bcd5885eb368"
      },
      "outputs": [
        {
          "data": {
            "text/plain": [
              "id                    0\n",
              "title                 0\n",
              "genre                 3\n",
              "original_language     0\n",
              "overview             13\n",
              "popularity            0\n",
              "release_date          0\n",
              "vote_average          0\n",
              "vote_count            0\n",
              "dtype: int64"
            ]
          },
          "execution_count": 8,
          "metadata": {},
          "output_type": "execute_result"
        }
      ],
      "source": [
        "df.isnull().sum()"
      ]
    },
    {
      "cell_type": "markdown",
      "metadata": {
        "id": "0LEZ0OcVNy_n"
      },
      "source": [
        "13 null values in overview feature, and 3 null values in genre featuree"
      ]
    },
    {
      "cell_type": "markdown",
      "metadata": {
        "id": "Szn_GTlBNgcn"
      },
      "source": [
        "## checking data types"
      ]
    },
    {
      "cell_type": "code",
      "execution_count": 9,
      "metadata": {
        "colab": {
          "base_uri": "https://localhost:8080/"
        },
        "id": "OKvrrRY7Njnn",
        "outputId": "9dd8bd7d-f544-46fc-ba8b-804ffdc7c85e"
      },
      "outputs": [
        {
          "data": {
            "text/plain": [
              "id                     int64\n",
              "title                 object\n",
              "genre                 object\n",
              "original_language     object\n",
              "overview              object\n",
              "popularity           float64\n",
              "release_date          object\n",
              "vote_average         float64\n",
              "vote_count             int64\n",
              "dtype: object"
            ]
          },
          "execution_count": 9,
          "metadata": {},
          "output_type": "execute_result"
        }
      ],
      "source": [
        "df.dtypes"
      ]
    },
    {
      "cell_type": "code",
      "execution_count": 10,
      "metadata": {
        "colab": {
          "base_uri": "https://localhost:8080/"
        },
        "id": "2dGAFQehOJFB",
        "outputId": "b0347ce8-af70-452b-9779-eb9eb86850f0"
      },
      "outputs": [
        {
          "data": {
            "text/plain": [
              "Index(['id', 'title', 'genre', 'original_language', 'overview', 'popularity',\n",
              "       'release_date', 'vote_average', 'vote_count'],\n",
              "      dtype='object')"
            ]
          },
          "execution_count": 10,
          "metadata": {},
          "output_type": "execute_result"
        }
      ],
      "source": [
        "df.columns"
      ]
    },
    {
      "cell_type": "markdown",
      "metadata": {
        "id": "JMGNlUeDOVki"
      },
      "source": [
        "## We need some feature only for recommendation system."
      ]
    },
    {
      "cell_type": "code",
      "execution_count": 11,
      "metadata": {
        "id": "b5XKErrDOKyJ"
      },
      "outputs": [],
      "source": [
        "df = df[['id','title','overview','genre']]"
      ]
    },
    {
      "cell_type": "code",
      "execution_count": 12,
      "metadata": {
        "colab": {
          "base_uri": "https://localhost:8080/",
          "height": 206
        },
        "id": "U07MvEBaOTs-",
        "outputId": "503984d0-9c91-4f21-8144-76fd5c624b53"
      },
      "outputs": [
        {
          "data": {
            "text/html": [
              "<div>\n",
              "<style scoped>\n",
              "    .dataframe tbody tr th:only-of-type {\n",
              "        vertical-align: middle;\n",
              "    }\n",
              "\n",
              "    .dataframe tbody tr th {\n",
              "        vertical-align: top;\n",
              "    }\n",
              "\n",
              "    .dataframe thead th {\n",
              "        text-align: right;\n",
              "    }\n",
              "</style>\n",
              "<table border=\"1\" class=\"dataframe\">\n",
              "  <thead>\n",
              "    <tr style=\"text-align: right;\">\n",
              "      <th></th>\n",
              "      <th>id</th>\n",
              "      <th>title</th>\n",
              "      <th>overview</th>\n",
              "      <th>genre</th>\n",
              "    </tr>\n",
              "  </thead>\n",
              "  <tbody>\n",
              "    <tr>\n",
              "      <th>0</th>\n",
              "      <td>278</td>\n",
              "      <td>The Shawshank Redemption</td>\n",
              "      <td>Framed in the 1940s for the double murder of h...</td>\n",
              "      <td>Drama,Crime</td>\n",
              "    </tr>\n",
              "    <tr>\n",
              "      <th>1</th>\n",
              "      <td>19404</td>\n",
              "      <td>Dilwale Dulhania Le Jayenge</td>\n",
              "      <td>Raj is a rich, carefree, happy-go-lucky second...</td>\n",
              "      <td>Comedy,Drama,Romance</td>\n",
              "    </tr>\n",
              "    <tr>\n",
              "      <th>2</th>\n",
              "      <td>238</td>\n",
              "      <td>The Godfather</td>\n",
              "      <td>Spanning the years 1945 to 1955, a chronicle o...</td>\n",
              "      <td>Drama,Crime</td>\n",
              "    </tr>\n",
              "    <tr>\n",
              "      <th>3</th>\n",
              "      <td>424</td>\n",
              "      <td>Schindler's List</td>\n",
              "      <td>The true story of how businessman Oskar Schind...</td>\n",
              "      <td>Drama,History,War</td>\n",
              "    </tr>\n",
              "    <tr>\n",
              "      <th>4</th>\n",
              "      <td>240</td>\n",
              "      <td>The Godfather: Part II</td>\n",
              "      <td>In the continuing saga of the Corleone crime f...</td>\n",
              "      <td>Drama,Crime</td>\n",
              "    </tr>\n",
              "  </tbody>\n",
              "</table>\n",
              "</div>"
            ],
            "text/plain": [
              "      id                        title  \\\n",
              "0    278     The Shawshank Redemption   \n",
              "1  19404  Dilwale Dulhania Le Jayenge   \n",
              "2    238                The Godfather   \n",
              "3    424             Schindler's List   \n",
              "4    240       The Godfather: Part II   \n",
              "\n",
              "                                            overview                 genre  \n",
              "0  Framed in the 1940s for the double murder of h...           Drama,Crime  \n",
              "1  Raj is a rich, carefree, happy-go-lucky second...  Comedy,Drama,Romance  \n",
              "2  Spanning the years 1945 to 1955, a chronicle o...           Drama,Crime  \n",
              "3  The true story of how businessman Oskar Schind...     Drama,History,War  \n",
              "4  In the continuing saga of the Corleone crime f...           Drama,Crime  "
            ]
          },
          "execution_count": 12,
          "metadata": {},
          "output_type": "execute_result"
        }
      ],
      "source": [
        "df.head()"
      ]
    },
    {
      "cell_type": "markdown",
      "metadata": {
        "id": "_uo8Vfg3O8O3"
      },
      "source": [
        "## Combining features"
      ]
    },
    {
      "cell_type": "code",
      "execution_count": 13,
      "metadata": {
        "id": "Jpd-zjD9OzAx"
      },
      "outputs": [
        {
          "name": "stderr",
          "output_type": "stream",
          "text": [
            "C:\\Users\\PC\\AppData\\Local\\Temp\\ipykernel_20448\\3751005855.py:1: SettingWithCopyWarning: \n",
            "A value is trying to be set on a copy of a slice from a DataFrame.\n",
            "Try using .loc[row_indexer,col_indexer] = value instead\n",
            "\n",
            "See the caveats in the documentation: https://pandas.pydata.org/pandas-docs/stable/user_guide/indexing.html#returning-a-view-versus-a-copy\n",
            "  df['tags'] = df['overview'] + df['genre']\n"
          ]
        }
      ],
      "source": [
        "df['tags'] = df['overview'] + df['genre']\n",
        "df = df.drop(columns = ['overview','genre'])"
      ]
    },
    {
      "cell_type": "code",
      "execution_count": 14,
      "metadata": {
        "colab": {
          "base_uri": "https://localhost:8080/",
          "height": 206
        },
        "id": "4z3t7fbcPC3t",
        "outputId": "7c715a82-4fef-40f0-e978-59a10c4f3856"
      },
      "outputs": [
        {
          "data": {
            "text/html": [
              "<div>\n",
              "<style scoped>\n",
              "    .dataframe tbody tr th:only-of-type {\n",
              "        vertical-align: middle;\n",
              "    }\n",
              "\n",
              "    .dataframe tbody tr th {\n",
              "        vertical-align: top;\n",
              "    }\n",
              "\n",
              "    .dataframe thead th {\n",
              "        text-align: right;\n",
              "    }\n",
              "</style>\n",
              "<table border=\"1\" class=\"dataframe\">\n",
              "  <thead>\n",
              "    <tr style=\"text-align: right;\">\n",
              "      <th></th>\n",
              "      <th>id</th>\n",
              "      <th>title</th>\n",
              "      <th>tags</th>\n",
              "    </tr>\n",
              "  </thead>\n",
              "  <tbody>\n",
              "    <tr>\n",
              "      <th>0</th>\n",
              "      <td>278</td>\n",
              "      <td>The Shawshank Redemption</td>\n",
              "      <td>Framed in the 1940s for the double murder of h...</td>\n",
              "    </tr>\n",
              "    <tr>\n",
              "      <th>1</th>\n",
              "      <td>19404</td>\n",
              "      <td>Dilwale Dulhania Le Jayenge</td>\n",
              "      <td>Raj is a rich, carefree, happy-go-lucky second...</td>\n",
              "    </tr>\n",
              "    <tr>\n",
              "      <th>2</th>\n",
              "      <td>238</td>\n",
              "      <td>The Godfather</td>\n",
              "      <td>Spanning the years 1945 to 1955, a chronicle o...</td>\n",
              "    </tr>\n",
              "    <tr>\n",
              "      <th>3</th>\n",
              "      <td>424</td>\n",
              "      <td>Schindler's List</td>\n",
              "      <td>The true story of how businessman Oskar Schind...</td>\n",
              "    </tr>\n",
              "    <tr>\n",
              "      <th>4</th>\n",
              "      <td>240</td>\n",
              "      <td>The Godfather: Part II</td>\n",
              "      <td>In the continuing saga of the Corleone crime f...</td>\n",
              "    </tr>\n",
              "  </tbody>\n",
              "</table>\n",
              "</div>"
            ],
            "text/plain": [
              "      id                        title  \\\n",
              "0    278     The Shawshank Redemption   \n",
              "1  19404  Dilwale Dulhania Le Jayenge   \n",
              "2    238                The Godfather   \n",
              "3    424             Schindler's List   \n",
              "4    240       The Godfather: Part II   \n",
              "\n",
              "                                                tags  \n",
              "0  Framed in the 1940s for the double murder of h...  \n",
              "1  Raj is a rich, carefree, happy-go-lucky second...  \n",
              "2  Spanning the years 1945 to 1955, a chronicle o...  \n",
              "3  The true story of how businessman Oskar Schind...  \n",
              "4  In the continuing saga of the Corleone crime f...  "
            ]
          },
          "execution_count": 14,
          "metadata": {},
          "output_type": "execute_result"
        }
      ],
      "source": [
        "df.head()"
      ]
    },
    {
      "cell_type": "code",
      "execution_count": 15,
      "metadata": {
        "colab": {
          "base_uri": "https://localhost:8080/"
        },
        "id": "fkKu7iw5Pl9j",
        "outputId": "adfa1515-47a8-4e81-c71c-3bb44481bc30"
      },
      "outputs": [
        {
          "data": {
            "text/plain": [
              "15"
            ]
          },
          "execution_count": 15,
          "metadata": {},
          "output_type": "execute_result"
        }
      ],
      "source": [
        "df.isnull().sum().sum()"
      ]
    },
    {
      "cell_type": "code",
      "execution_count": 16,
      "metadata": {
        "id": "FY-IZw-LPYJv"
      },
      "outputs": [],
      "source": [
        "df.dropna(inplace = True)"
      ]
    },
    {
      "cell_type": "code",
      "execution_count": 17,
      "metadata": {},
      "outputs": [
        {
          "data": {
            "text/plain": [
              "0"
            ]
          },
          "execution_count": 17,
          "metadata": {},
          "output_type": "execute_result"
        }
      ],
      "source": [
        "df.isnull().sum().sum()"
      ]
    },
    {
      "cell_type": "markdown",
      "metadata": {
        "id": "13aOlKJ6P55-"
      },
      "source": [
        "## NLP-Natural Language Processing"
      ]
    },
    {
      "cell_type": "code",
      "execution_count": 18,
      "metadata": {
        "id": "7c-8Ne2xPy4d"
      },
      "outputs": [],
      "source": [
        "from sklearn.feature_extraction.text import CountVectorizer"
      ]
    },
    {
      "cell_type": "code",
      "execution_count": 19,
      "metadata": {
        "colab": {
          "base_uri": "https://localhost:8080/"
        },
        "id": "YTPiG_kjQKlB",
        "outputId": "46f8a5c4-e05a-4157-8dd9-5adfc99ce9c0"
      },
      "outputs": [
        {
          "data": {
            "text/plain": [
              "(9985, 5000)"
            ]
          },
          "execution_count": 19,
          "metadata": {},
          "output_type": "execute_result"
        }
      ],
      "source": [
        "cv = CountVectorizer(max_features = 5000, stop_words = 'english')\n",
        "cv.fit_transform(df['tags']).toarray().shape"
      ]
    },
    {
      "cell_type": "code",
      "execution_count": 20,
      "metadata": {
        "id": "u1-4dwUCQsye"
      },
      "outputs": [],
      "source": [
        "vector = cv.fit_transform(df['tags']).toarray()"
      ]
    },
    {
      "cell_type": "markdown",
      "metadata": {
        "id": "plKWfdvoRVZA"
      },
      "source": [
        "# Using Cosine Similarity"
      ]
    },
    {
      "cell_type": "code",
      "execution_count": 21,
      "metadata": {
        "id": "UiBi7PviRTCi"
      },
      "outputs": [],
      "source": [
        "from sklearn.metrics.pairwise import cosine_similarity"
      ]
    },
    {
      "cell_type": "code",
      "execution_count": 22,
      "metadata": {
        "id": "dwLGfuteRgM9"
      },
      "outputs": [],
      "source": [
        "similarity = cosine_similarity(vector)"
      ]
    },
    {
      "cell_type": "code",
      "execution_count": 23,
      "metadata": {
        "colab": {
          "base_uri": "https://localhost:8080/"
        },
        "id": "euT7085rRkQl",
        "outputId": "63dcfc8c-a5b4-4935-8481-34dfac50b0ec"
      },
      "outputs": [
        {
          "data": {
            "text/plain": [
              "array([[1.        , 0.06454972, 0.14731391, ..., 0.07905694, 0.11572751,\n",
              "        0.07537784],\n",
              "       [0.06454972, 1.        , 0.09128709, ..., 0.        , 0.03984095,\n",
              "        0.        ],\n",
              "       [0.14731391, 0.09128709, 1.        , ..., 0.0248452 , 0.0727393 ,\n",
              "        0.10660036],\n",
              "       ...,\n",
              "       [0.07905694, 0.        , 0.0248452 , ..., 1.        , 0.03253   ,\n",
              "        0.03178209],\n",
              "       [0.11572751, 0.03984095, 0.0727393 , ..., 0.03253   , 1.        ,\n",
              "        0.04652421],\n",
              "       [0.07537784, 0.        , 0.10660036, ..., 0.03178209, 0.04652421,\n",
              "        1.        ]])"
            ]
          },
          "execution_count": 23,
          "metadata": {},
          "output_type": "execute_result"
        }
      ],
      "source": [
        "similarity"
      ]
    },
    {
      "cell_type": "code",
      "execution_count": 24,
      "metadata": {
        "colab": {
          "base_uri": "https://localhost:8080/"
        },
        "id": "76vcCo6mR_2u",
        "outputId": "48d35af2-5000-4287-9f32-48ae0e232e05"
      },
      "outputs": [
        {
          "data": {
            "text/plain": [
              "3"
            ]
          },
          "execution_count": 24,
          "metadata": {},
          "output_type": "execute_result"
        }
      ],
      "source": [
        "df[df['title'] ==\"Schindler's List\"].index[0]"
      ]
    },
    {
      "cell_type": "code",
      "execution_count": 25,
      "metadata": {
        "colab": {
          "base_uri": "https://localhost:8080/"
        },
        "id": "sc7JiT5oUDFV",
        "outputId": "27d7ab86-9b06-4721-f21c-218ed28eecc7"
      },
      "outputs": [
        {
          "data": {
            "text/plain": [
              "[(3, 0.9999999999999997),\n",
              " (3351, 0.6488856845230502),\n",
              " (2031, 0.5726562866781999),\n",
              " (2697, 0.533113989983183),\n",
              " (3665, 0.5298129428260175)]"
            ]
          },
          "execution_count": 25,
          "metadata": {},
          "output_type": "execute_result"
        }
      ],
      "source": [
        "distance = sorted(list(enumerate(similarity[3])),reverse = True, key = lambda x : x[1])[:5]\n",
        "distance"
      ]
    },
    {
      "cell_type": "code",
      "execution_count": 26,
      "metadata": {
        "id": "bme4Of01UlkO"
      },
      "outputs": [],
      "source": [
        "def recommand(movie):\n",
        "  movie_index = df[df[\"title\"] == movie].index[0]\n",
        "  distances = similarity[movie_index]\n",
        "  movies_list = sorted(list(enumerate(distances)),reverse = True, key=lambda x : x[1])[1:6]\n",
        "\n",
        "  for i in movies_list:\n",
        "    print(df.iloc[i[0]].title)"
      ]
    },
    {
      "cell_type": "code",
      "execution_count": 27,
      "metadata": {
        "colab": {
          "base_uri": "https://localhost:8080/"
        },
        "id": "8rdL_8c6U1el",
        "outputId": "c6371209-e955-4be9-aebe-82cd7ce1feef"
      },
      "outputs": [
        {
          "name": "stdout",
          "output_type": "stream",
          "text": [
            "Iron Man 3\n",
            "Star Wars: Episode III - Revenge of the Sith\n",
            "Guardians of the Galaxy Vol. 2\n",
            "Avengers: Age of Ultron\n",
            "Star Wars: Episode I - The Phantom Menace\n"
          ]
        }
      ],
      "source": [
        "recommand('Iron Man')"
      ]
    },
    {
      "cell_type": "code",
      "execution_count": 28,
      "metadata": {
        "colab": {
          "base_uri": "https://localhost:8080/"
        },
        "id": "YVoctyhUU__h",
        "outputId": "413366fd-9f5f-4d2b-9f20-763c3b4d8b1e"
      },
      "outputs": [
        {
          "name": "stdout",
          "output_type": "stream",
          "text": [
            "The Godfather: Part II\n",
            "Blood Ties\n",
            "Bomb City\n",
            "Joker\n",
            "Felon\n"
          ]
        }
      ],
      "source": [
        "recommand('The Godfather')"
      ]
    },
    {
      "cell_type": "code",
      "execution_count": 29,
      "metadata": {
        "colab": {
          "base_uri": "https://localhost:8080/",
          "height": 112
        },
        "id": "01hZaIcWcHMA",
        "outputId": "94efce7f-2e1e-4447-c1a9-20f1e338bfb9"
      },
      "outputs": [
        {
          "data": {
            "text/html": [
              "<div>\n",
              "<style scoped>\n",
              "    .dataframe tbody tr th:only-of-type {\n",
              "        vertical-align: middle;\n",
              "    }\n",
              "\n",
              "    .dataframe tbody tr th {\n",
              "        vertical-align: top;\n",
              "    }\n",
              "\n",
              "    .dataframe thead th {\n",
              "        text-align: right;\n",
              "    }\n",
              "</style>\n",
              "<table border=\"1\" class=\"dataframe\">\n",
              "  <thead>\n",
              "    <tr style=\"text-align: right;\">\n",
              "      <th></th>\n",
              "      <th>id</th>\n",
              "      <th>title</th>\n",
              "      <th>tags</th>\n",
              "    </tr>\n",
              "  </thead>\n",
              "  <tbody>\n",
              "    <tr>\n",
              "      <th>0</th>\n",
              "      <td>278</td>\n",
              "      <td>The Shawshank Redemption</td>\n",
              "      <td>Framed in the 1940s for the double murder of h...</td>\n",
              "    </tr>\n",
              "    <tr>\n",
              "      <th>1</th>\n",
              "      <td>19404</td>\n",
              "      <td>Dilwale Dulhania Le Jayenge</td>\n",
              "      <td>Raj is a rich, carefree, happy-go-lucky second...</td>\n",
              "    </tr>\n",
              "  </tbody>\n",
              "</table>\n",
              "</div>"
            ],
            "text/plain": [
              "      id                        title  \\\n",
              "0    278     The Shawshank Redemption   \n",
              "1  19404  Dilwale Dulhania Le Jayenge   \n",
              "\n",
              "                                                tags  \n",
              "0  Framed in the 1940s for the double murder of h...  \n",
              "1  Raj is a rich, carefree, happy-go-lucky second...  "
            ]
          },
          "execution_count": 29,
          "metadata": {},
          "output_type": "execute_result"
        }
      ],
      "source": [
        "df.head(2)"
      ]
    },
    {
      "cell_type": "markdown",
      "metadata": {
        "id": "AzUOGn4pVhsM"
      },
      "source": [
        "## Saving the similarity model"
      ]
    },
    {
      "cell_type": "code",
      "execution_count": 30,
      "metadata": {
        "id": "H9yhS3OEVfdR"
      },
      "outputs": [],
      "source": [
        "import pickle"
      ]
    },
    {
      "cell_type": "code",
      "execution_count": 31,
      "metadata": {
        "id": "nIkGu4m8Vhb7"
      },
      "outputs": [],
      "source": [
        "pickle.dump(df, open('movies.pkl','wb'))"
      ]
    },
    {
      "cell_type": "code",
      "execution_count": 32,
      "metadata": {
        "id": "x3ahn7GtV3lA"
      },
      "outputs": [],
      "source": [
        "pickle.dump(similarity, open('similarity.pkl','wb'))"
      ]
    },
    {
      "cell_type": "code",
      "execution_count": 33,
      "metadata": {
        "colab": {
          "base_uri": "https://localhost:8080/",
          "height": 424
        },
        "id": "PRyNwWWUV_9A",
        "outputId": "e50ffc88-c306-45c7-b665-a91b5b152f11"
      },
      "outputs": [
        {
          "data": {
            "text/html": [
              "<div>\n",
              "<style scoped>\n",
              "    .dataframe tbody tr th:only-of-type {\n",
              "        vertical-align: middle;\n",
              "    }\n",
              "\n",
              "    .dataframe tbody tr th {\n",
              "        vertical-align: top;\n",
              "    }\n",
              "\n",
              "    .dataframe thead th {\n",
              "        text-align: right;\n",
              "    }\n",
              "</style>\n",
              "<table border=\"1\" class=\"dataframe\">\n",
              "  <thead>\n",
              "    <tr style=\"text-align: right;\">\n",
              "      <th></th>\n",
              "      <th>id</th>\n",
              "      <th>title</th>\n",
              "      <th>tags</th>\n",
              "    </tr>\n",
              "  </thead>\n",
              "  <tbody>\n",
              "    <tr>\n",
              "      <th>0</th>\n",
              "      <td>278</td>\n",
              "      <td>The Shawshank Redemption</td>\n",
              "      <td>Framed in the 1940s for the double murder of h...</td>\n",
              "    </tr>\n",
              "    <tr>\n",
              "      <th>1</th>\n",
              "      <td>19404</td>\n",
              "      <td>Dilwale Dulhania Le Jayenge</td>\n",
              "      <td>Raj is a rich, carefree, happy-go-lucky second...</td>\n",
              "    </tr>\n",
              "    <tr>\n",
              "      <th>2</th>\n",
              "      <td>238</td>\n",
              "      <td>The Godfather</td>\n",
              "      <td>Spanning the years 1945 to 1955, a chronicle o...</td>\n",
              "    </tr>\n",
              "    <tr>\n",
              "      <th>3</th>\n",
              "      <td>424</td>\n",
              "      <td>Schindler's List</td>\n",
              "      <td>The true story of how businessman Oskar Schind...</td>\n",
              "    </tr>\n",
              "    <tr>\n",
              "      <th>4</th>\n",
              "      <td>240</td>\n",
              "      <td>The Godfather: Part II</td>\n",
              "      <td>In the continuing saga of the Corleone crime f...</td>\n",
              "    </tr>\n",
              "    <tr>\n",
              "      <th>...</th>\n",
              "      <td>...</td>\n",
              "      <td>...</td>\n",
              "      <td>...</td>\n",
              "    </tr>\n",
              "    <tr>\n",
              "      <th>9995</th>\n",
              "      <td>10196</td>\n",
              "      <td>The Last Airbender</td>\n",
              "      <td>The story follows the adventures of Aang, a yo...</td>\n",
              "    </tr>\n",
              "    <tr>\n",
              "      <th>9996</th>\n",
              "      <td>331446</td>\n",
              "      <td>Sharknado 3: Oh Hell No!</td>\n",
              "      <td>The sharks take bite out of the East Coast whe...</td>\n",
              "    </tr>\n",
              "    <tr>\n",
              "      <th>9997</th>\n",
              "      <td>13995</td>\n",
              "      <td>Captain America</td>\n",
              "      <td>During World War II, a brave, patriotic Americ...</td>\n",
              "    </tr>\n",
              "    <tr>\n",
              "      <th>9998</th>\n",
              "      <td>2312</td>\n",
              "      <td>In the Name of the King: A Dungeon Siege Tale</td>\n",
              "      <td>A man named Farmer sets out to rescue his kidn...</td>\n",
              "    </tr>\n",
              "    <tr>\n",
              "      <th>9999</th>\n",
              "      <td>455957</td>\n",
              "      <td>Domino</td>\n",
              "      <td>Seeking justice for his partner’s murder by an...</td>\n",
              "    </tr>\n",
              "  </tbody>\n",
              "</table>\n",
              "<p>9985 rows × 3 columns</p>\n",
              "</div>"
            ],
            "text/plain": [
              "          id                                          title  \\\n",
              "0        278                       The Shawshank Redemption   \n",
              "1      19404                    Dilwale Dulhania Le Jayenge   \n",
              "2        238                                  The Godfather   \n",
              "3        424                               Schindler's List   \n",
              "4        240                         The Godfather: Part II   \n",
              "...      ...                                            ...   \n",
              "9995   10196                             The Last Airbender   \n",
              "9996  331446                       Sharknado 3: Oh Hell No!   \n",
              "9997   13995                                Captain America   \n",
              "9998    2312  In the Name of the King: A Dungeon Siege Tale   \n",
              "9999  455957                                         Domino   \n",
              "\n",
              "                                                   tags  \n",
              "0     Framed in the 1940s for the double murder of h...  \n",
              "1     Raj is a rich, carefree, happy-go-lucky second...  \n",
              "2     Spanning the years 1945 to 1955, a chronicle o...  \n",
              "3     The true story of how businessman Oskar Schind...  \n",
              "4     In the continuing saga of the Corleone crime f...  \n",
              "...                                                 ...  \n",
              "9995  The story follows the adventures of Aang, a yo...  \n",
              "9996  The sharks take bite out of the East Coast whe...  \n",
              "9997  During World War II, a brave, patriotic Americ...  \n",
              "9998  A man named Farmer sets out to rescue his kidn...  \n",
              "9999  Seeking justice for his partner’s murder by an...  \n",
              "\n",
              "[9985 rows x 3 columns]"
            ]
          },
          "execution_count": 33,
          "metadata": {},
          "output_type": "execute_result"
        }
      ],
      "source": [
        "pickle.load(open('movies.pkl','rb'))"
      ]
    }
  ],
  "metadata": {
    "colab": {
      "authorship_tag": "ABX9TyN88nE1tn8Pv2I22mJfEt9v",
      "include_colab_link": true,
      "provenance": []
    },
    "kernelspec": {
      "display_name": "Python 3",
      "name": "python3"
    },
    "language_info": {
      "codemirror_mode": {
        "name": "ipython",
        "version": 3
      },
      "file_extension": ".py",
      "mimetype": "text/x-python",
      "name": "python",
      "nbconvert_exporter": "python",
      "pygments_lexer": "ipython3",
      "version": "3.12.1"
    }
  },
  "nbformat": 4,
  "nbformat_minor": 0
}
